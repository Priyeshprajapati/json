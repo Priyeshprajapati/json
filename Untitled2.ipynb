{
 "cells": [
  {
   "cell_type": "code",
   "execution_count": 2,
   "id": "fd048f53",
   "metadata": {},
   "outputs": [
    {
     "name": "stdout",
     "output_type": "stream",
     "text": [
      "Feature names: ['sepal length (cm)', 'sepal width (cm)', 'petal length (cm)', 'petal width (cm)']\n",
      "Target names: ['setosa' 'versicolor' 'virginica']\n",
      "\n",
      "Type of X is: <class 'numpy.ndarray'>\n",
      "\n",
      "First 5 rows of X:\n",
      " [[5.1 3.5 1.4 0.2]\n",
      " [4.9 3.  1.4 0.2]\n",
      " [4.7 3.2 1.3 0.2]\n",
      " [4.6 3.1 1.5 0.2]\n",
      " [5.  3.6 1.4 0.2]]\n"
     ]
    }
   ],
   "source": [
    "# load the iris dataset as an example\n",
    "from sklearn.datasets import load_iris\n",
    "iris = load_iris()\n",
    "\n",
    "# store the feature matrix (X) and response vector (y)\n",
    "X = iris.data\n",
    "y = iris.target\n",
    "\n",
    "# store the feature and target names\n",
    "feature_names = iris.feature_names\n",
    "target_names = iris.target_names\n",
    "\n",
    "# printing features and target names of our dataset\n",
    "print(\"Feature names:\", feature_names)\n",
    "print(\"Target names:\", target_names)\n",
    "\n",
    "# X and y are numpy arrays\n",
    "print(\"\\nType of X is:\", type(X))\n",
    "\n",
    "# printing first 5 input rows\n",
    "print(\"\\nFirst 5 rows of X:\\n\", X[:5])\n"
   ]
  },
  {
   "cell_type": "code",
   "execution_count": 9,
   "id": "4b519902",
   "metadata": {},
   "outputs": [
    {
     "name": "stdout",
     "output_type": "stream",
     "text": [
      "Shape: (9, 4)\n",
      "\n",
      "Features: Index(['day', 'temperature', 'windspeed', 'event'], dtype='object')\n",
      "\n",
      "Feature matrix:\n",
      "         day  temperature  windspeed\n",
      "0  01-01-17         32.0        6.0\n",
      "1  02-01-17          NaN        NaN\n",
      "2  03-01-17         23.0        NaN\n",
      "3  04-01-17          NaN        5.0\n",
      "4  05-01-17          NaN        9.0\n",
      "\n",
      "Response vector:\n",
      " 0     Rain\n",
      "1    Sunny\n",
      "2     Rain\n",
      "3     Rain\n",
      "4      NaN\n",
      "Name: event, dtype: object\n"
     ]
    }
   ],
   "source": [
    "import pandas as pd\n",
    "\n",
    "# reading csv file\n",
    "data = pd.read_csv('p:\\\\excel\\\\weather123.csv')\n",
    "\n",
    "# shape of dataset\n",
    "print(\"Shape:\", data.shape)\n",
    "\n",
    "# column names\n",
    "print(\"\\nFeatures:\", data.columns)\n",
    "\n",
    "# storing the feature matrix (X) and response vector (y)\n",
    "X = data[data.columns[:-1]]\n",
    "y = data[data.columns[-1]]\n",
    "\n",
    "# printing first 5 rows of feature matrix\n",
    "print(\"\\nFeature matrix:\\n\", X.head())\n",
    "\n",
    "# printing first 5 values of response vector\n",
    "print(\"\\nResponse vector:\\n\", y.head())\n"
   ]
  },
  {
   "cell_type": "code",
   "execution_count": null,
   "id": "8bf15965",
   "metadata": {},
   "outputs": [],
   "source": []
  }
 ],
 "metadata": {
  "kernelspec": {
   "display_name": "Python 3 (ipykernel)",
   "language": "python",
   "name": "python3"
  },
  "language_info": {
   "codemirror_mode": {
    "name": "ipython",
    "version": 3
   },
   "file_extension": ".py",
   "mimetype": "text/x-python",
   "name": "python",
   "nbconvert_exporter": "python",
   "pygments_lexer": "ipython3",
   "version": "3.9.6"
  }
 },
 "nbformat": 4,
 "nbformat_minor": 5
}
